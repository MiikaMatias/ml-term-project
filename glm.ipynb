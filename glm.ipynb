{
 "cells": [
  {
   "cell_type": "code",
   "execution_count": 35,
   "metadata": {},
   "outputs": [],
   "source": [
    "import numpy as np\n",
    "import pandas as pd\n",
    "import statsmodels.api as sm\n",
    "from sklearn.model_selection import train_test_split\n",
    "from sklearn.preprocessing import StandardScaler\n",
    "from sklearn.metrics import r2_score\n",
    "from sklearn.decomposition import PCA\n"
   ]
  },
  {
   "cell_type": "code",
   "execution_count": 42,
   "metadata": {},
   "outputs": [
    {
     "name": "stdout",
     "output_type": "stream",
     "text": [
      "GLM R^2 Score:  0.6923539014404261\n"
     ]
    }
   ],
   "source": [
    "train_df = pd.read_csv('train.csv')\n",
    "test_df = pd.read_csv('test.csv')\n",
    "\n",
    "numeric_cols = [col for col in train_df.select_dtypes(include=[np.number]).columns if col != 'pSat_Pa']\n",
    "\n",
    "X_scaled = StandardScaler().fit_transform(train_df[numeric_cols])\n",
    "test_df_scaled = StandardScaler().fit_transform(test_df[numeric_cols])\n",
    "\n",
    "pca = PCA(n_components=0.97)\n",
    "X_pca = pca.fit_transform(X_scaled)\n",
    "test_pca = pca.transform(test_df_scaled)\n",
    "\n",
    "X_pca = sm.add_constant(X_pca)\n",
    "\n",
    "train_df['log_pSat_Pa'] = np.log10(train_df['pSat_Pa'])\n",
    "\n",
    "X_train, X_test, y_train, y_test = train_test_split(X_pca, train_df['log_pSat_Pa'], test_size=0.2, random_state=42)\n",
    "\n",
    "glm_model = sm.GLM(y_train, X_train, family=sm.families.Gaussian())\n",
    "glm_results = glm_model.fit()\n",
    "\n",
    "glm_predictions = glm_results.predict(X_test)\n",
    "\n",
    "glm_r2 = r2_score(y_test, glm_predictions)\n",
    "print(\"GLM R^2 Score: \", glm_r2)\n",
    "\n",
    "glm_test_predictions = glm_results.predict(sm.add_constant(test_pca))\n",
    "\n",
    "glm_submission = pd.DataFrame({'Id': test_df['Id'], 'target': glm_test_predictions})\n",
    "\n",
    "glm_submission.to_csv('glm_submission.csv', index=False)"
   ]
  }
 ],
 "metadata": {
  "kernelspec": {
   "display_name": "Python 3",
   "language": "python",
   "name": "python3"
  },
  "language_info": {
   "codemirror_mode": {
    "name": "ipython",
    "version": 3
   },
   "file_extension": ".py",
   "mimetype": "text/x-python",
   "name": "python",
   "nbconvert_exporter": "python",
   "pygments_lexer": "ipython3",
   "version": "3.11.6"
  }
 },
 "nbformat": 4,
 "nbformat_minor": 2
}
